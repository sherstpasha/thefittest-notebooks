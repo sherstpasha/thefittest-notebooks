{
 "cells": [
  {
   "cell_type": "code",
   "execution_count": 1,
   "metadata": {},
   "outputs": [
    {
     "name": "stdout",
     "output_type": "stream",
     "text": [
      "0 iteration with fitness = -92.67657083769099\n",
      "10 iteration with fitness = -26.711470438836553\n",
      "20 iteration with fitness = -5.360114124490817\n",
      "30 iteration with fitness = -2.9591427751313226\n",
      "40 iteration with fitness = -0.7732882654250801\n",
      "50 iteration with fitness = -0.33543880364305245\n",
      "60 iteration with fitness = -0.14919128879926014\n",
      "70 iteration with fitness = -0.11035850157163019\n",
      "80 iteration with fitness = -0.024832118679215753\n",
      "90 iteration with fitness = -0.015934041718793424\n",
      "100 iteration with fitness = -0.010404421812326703\n",
      "110 iteration with fitness = -0.0036496115136479546\n",
      "120 iteration with fitness = -0.0016695608553796148\n",
      "130 iteration with fitness = -0.0006765414414200421\n",
      "140 iteration with fitness = -0.00035149254542687913\n",
      "150 iteration with fitness = -0.00015322047349464185\n",
      "160 iteration with fitness = -9.826994618933327e-05\n",
      "170 iteration with fitness = -5.603375064922034e-05\n",
      "180 iteration with fitness = -1.698509207948007e-05\n",
      "190 iteration with fitness = -1.0869392079726481e-05\n",
      "200 iteration with fitness = -6.902277416287461e-06\n",
      "210 iteration with fitness = -1.0348641836799288e-06\n",
      "220 iteration with fitness = -3.211170760408777e-07\n",
      "230 iteration with fitness = -1.8700461268394974e-07\n",
      "240 iteration with fitness = -1.2478121114156693e-07\n",
      "250 iteration with fitness = -7.540986501908264e-08\n",
      "260 iteration with fitness = -3.44058204149178e-08\n",
      "270 iteration with fitness = -7.186303108142056e-09\n",
      "280 iteration with fitness = -2.7015119030693313e-09\n",
      "290 iteration with fitness = -1.202897337293507e-09\n",
      "The fittest individ: [ 4.27244231e-07 -4.07453626e-08  9.18516889e-07  1.74622983e-08\n",
      "  7.15954229e-07  9.39471647e-07  3.50410119e-07 -5.97210601e-07\n",
      " -1.54832378e-07 -2.29338184e-07]\n",
      "with fitness -5.910862910241121e-10\n"
     ]
    }
   ],
   "source": [
    "import numpy as np\n",
    "from thefittest.optimizers import GeneticAlgorithm\n",
    "from thefittest.tools.transformations import GrayCode\n",
    "from thefittest.benchmarks import Rastrigin\n",
    "\n",
    "\n",
    "n_dimension = 10\n",
    "left_border = -5.\n",
    "right_border = 5.\n",
    "n_bits_per_variable = 32\n",
    "\n",
    "number_of_iterations = 300\n",
    "population_size = 500\n",
    "\n",
    "left_border_array = np.full(\n",
    "    shape=n_dimension, fill_value=left_border, dtype=np.float64)\n",
    "right_border_array = np.full(\n",
    "    shape=n_dimension, fill_value=right_border, dtype=np.float64)\n",
    "parts = np.full(\n",
    "    shape=n_dimension, fill_value=n_bits_per_variable, dtype=np.int64)\n",
    "\n",
    "genotype_to_phenotype = GrayCode(fit_by='parts').fit(left=left_border_array,\n",
    "                                                     right=right_border_array,\n",
    "                                                     arg=parts)\n",
    "model = GeneticAlgorithm(fitness_function=Rastrigin(),\n",
    "                         genotype_to_phenotype=genotype_to_phenotype.transform,\n",
    "                         iters=number_of_iterations,\n",
    "                         pop_size=population_size,\n",
    "                         str_len=sum(parts),\n",
    "                         show_progress_each=10,\n",
    "                         minimization=True)\n",
    "\n",
    "model.set_strategy(selection_oper='rank',\n",
    "                   crossover_oper='two_point',\n",
    "                   mutation_oper='weak')\n",
    "\n",
    "model.fit()\n",
    "\n",
    "print('The fittest individ:', model.thefittest.phenotype)\n",
    "print('with fitness', model.thefittest.fitness)\n"
   ]
  }
 ],
 "metadata": {
  "kernelspec": {
   "display_name": "Python 3",
   "language": "python",
   "name": "python3"
  },
  "language_info": {
   "codemirror_mode": {
    "name": "ipython",
    "version": 3
   },
   "file_extension": ".py",
   "mimetype": "text/x-python",
   "name": "python",
   "nbconvert_exporter": "python",
   "pygments_lexer": "ipython3",
   "version": "3.10.9"
  },
  "orig_nbformat": 4,
  "vscode": {
   "interpreter": {
    "hash": "fb4569285eef3a3450cb62085a5b1e0da4bce0af555edc33dcf29baf3acc1368"
   }
  }
 },
 "nbformat": 4,
 "nbformat_minor": 2
}
