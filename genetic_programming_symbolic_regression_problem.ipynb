{
 "cells": [
  {
   "cell_type": "code",
   "execution_count": 1,
   "metadata": {},
   "outputs": [
    {
     "name": "stdout",
     "output_type": "stream",
     "text": [
      "0 iteration with fitness = 0.7960953886400608\n",
      "10 iteration with fitness = 0.9295430818954024\n",
      "20 iteration with fitness = 0.9295430818954024\n",
      "30 iteration with fitness = 1.0\n",
      "40 iteration with fitness = 1.0\n",
      "50 iteration with fitness = 1.0\n",
      "60 iteration with fitness = 1.0\n",
      "70 iteration with fitness = 1.0\n",
      "80 iteration with fitness = 1.0\n",
      "90 iteration with fitness = 1.0\n",
      "The fittest individ: (7 + (((x0 * ((x0 + x0) + x0)) + x0) + (-2 + x0)))\n",
      "with fitness 1.0\n"
     ]
    }
   ],
   "source": [
    "import numpy as np\n",
    "from thefittest.optimizers import GeneticProgramming\n",
    "from thefittest.tools import donothing\n",
    "from thefittest.base import FunctionalNode\n",
    "from thefittest.base import TerminalNode\n",
    "from thefittest.base import EphemeralNode\n",
    "from thefittest.base import UniversalSet\n",
    "from thefittest.tools.operators import Mul\n",
    "from thefittest.tools.operators import Add\n",
    "from thefittest.tools.operators import Div\n",
    "from thefittest.tools.operators import Neg\n",
    "from thefittest.tools.metrics import coefficient_determination\n",
    "\n",
    "\n",
    "def generator1():\n",
    "    return np.round(np.random.uniform(0, 10), 4)\n",
    "\n",
    "\n",
    "def generator2():\n",
    "    return np.random.randint(0, 10)\n",
    "\n",
    "\n",
    "def problem(x):\n",
    "    return 3*x[:, 0]**2 + 2*x[:,0] + 5\n",
    "\n",
    "\n",
    "function = problem\n",
    "left_border = -4.5\n",
    "right_border = 4.5\n",
    "sample_size = 300\n",
    "n_dimension = 1\n",
    "\n",
    "number_of_iterations = 100\n",
    "population_size = 500\n",
    "\n",
    "X = np.array([np.linspace(left_border, right_border, sample_size)\n",
    "              for _ in range(n_dimension)]).T\n",
    "y = function(X)\n",
    "\n",
    "\n",
    "functional_set = [FunctionalNode(Add()),\n",
    "                  FunctionalNode(Mul()),\n",
    "                  FunctionalNode(Neg()),\n",
    "                  FunctionalNode(Div())]\n",
    "\n",
    "\n",
    "terminal_set = [TerminalNode(X[:, i], f'x{i}') for i in range(n_dimension)]\n",
    "terminal_set.extend([EphemeralNode(generator1), EphemeralNode(generator2)])\n",
    "uniset = UniversalSet(functional_set, terminal_set)\n",
    "\n",
    "\n",
    "def fitness_function(trees):\n",
    "    fitness = []\n",
    "    for tree in trees:\n",
    "        y_pred = tree()*np.ones(len(y))\n",
    "        fitness.append(coefficient_determination(y, y_pred))\n",
    "    return np.array(fitness)\n",
    "\n",
    "\n",
    "model = GeneticProgramming(fitness_function=fitness_function,\n",
    "                           genotype_to_phenotype=donothing,\n",
    "                           uniset=uniset,\n",
    "                           pop_size=population_size,\n",
    "                           iters=number_of_iterations,\n",
    "                           show_progress_each=10,\n",
    "                           minimization=False,\n",
    "                           keep_history=False)\n",
    "\n",
    "model.fit()\n",
    "\n",
    "fittest = model.get_fittest()\n",
    "genotype, phenotype, fitness = fittest.get()\n",
    "print('The fittest individ:', phenotype)\n",
    "print('with fitness', fitness)\n"
   ]
  }
 ],
 "metadata": {
  "kernelspec": {
   "display_name": "Python 3",
   "language": "python",
   "name": "python3"
  },
  "language_info": {
   "codemirror_mode": {
    "name": "ipython",
    "version": 3
   },
   "file_extension": ".py",
   "mimetype": "text/x-python",
   "name": "python",
   "nbconvert_exporter": "python",
   "pygments_lexer": "ipython3",
   "version": "3.10.9"
  },
  "orig_nbformat": 4,
  "vscode": {
   "interpreter": {
    "hash": "fb4569285eef3a3450cb62085a5b1e0da4bce0af555edc33dcf29baf3acc1368"
   }
  }
 },
 "nbformat": 4,
 "nbformat_minor": 2
}
