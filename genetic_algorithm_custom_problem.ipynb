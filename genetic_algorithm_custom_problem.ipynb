{
 "cells": [
  {
   "cell_type": "code",
   "execution_count": 1,
   "metadata": {},
   "outputs": [
    {
     "name": "stdout",
     "output_type": "stream",
     "text": [
      "0 iteration with fitness = -35.708457482403055\n",
      "10 iteration with fitness = -0.0513355463664812\n",
      "20 iteration with fitness = -0.00047183932817487643\n",
      "30 iteration with fitness = -7.997641965050363e-06\n",
      "40 iteration with fitness = -2.9973764595991385e-08\n",
      "50 iteration with fitness = -3.758673941592879e-09\n",
      "60 iteration with fitness = -1.4805753327500694e-09\n",
      "70 iteration with fitness = -1.7887016873089148e-10\n",
      "80 iteration with fitness = -1.5864253405948117e-10\n",
      "90 iteration with fitness = -4.336137704322521e-11\n",
      "The fittest individ: [ 5.00000056 12.0000006 ]\n",
      "with fitness -6.740606879086786e-13\n"
     ]
    }
   ],
   "source": [
    "import numpy as np\n",
    "from thefittest.optimizers import GeneticAlgorithm\n",
    "from thefittest.tools.transformations import GrayCode\n",
    "\n",
    "\n",
    "def custom_problem(x):\n",
    "    return (5 - x[:, 0])**2 + (12 - x[:, 1])**2\n",
    "\n",
    "\n",
    "n_dimension = 2\n",
    "left_border = -100.\n",
    "right_border = 100.\n",
    "n_bits_per_variable = 32\n",
    "\n",
    "number_of_iterations = 100\n",
    "population_size = 100\n",
    "\n",
    "left_border_array = np.full(\n",
    "    shape=n_dimension, fill_value=left_border, dtype=np.float64)\n",
    "right_border_array = np.full(\n",
    "    shape=n_dimension, fill_value=right_border, dtype=np.float64)\n",
    "parts = np.full(\n",
    "    shape=n_dimension, fill_value=n_bits_per_variable, dtype=np.int64)\n",
    "\n",
    "\n",
    "genotype_to_phenotype = GrayCode(fit_by='parts').fit(left=left_border_array,\n",
    "                                                     right=right_border_array,\n",
    "                                                     arg=parts)\n",
    "model = GeneticAlgorithm(fitness_function=custom_problem,\n",
    "                         genotype_to_phenotype=genotype_to_phenotype.transform,\n",
    "                         iters=number_of_iterations,\n",
    "                         pop_size=population_size,\n",
    "                         str_len=sum(parts),\n",
    "                         show_progress_each=10,\n",
    "                         minimization=True)\n",
    "\n",
    "model.set_strategy(selection_oper='rank',\n",
    "                   crossover_oper='two_point',\n",
    "                   mutation_oper='weak')\n",
    "\n",
    "model.fit()\n",
    "\n",
    "print('The fittest individ:', model.thefittest.phenotype)\n",
    "print('with fitness', model.thefittest.fitness)\n"
   ]
  }
 ],
 "metadata": {
  "kernelspec": {
   "display_name": "Python 3",
   "language": "python",
   "name": "python3"
  },
  "language_info": {
   "codemirror_mode": {
    "name": "ipython",
    "version": 3
   },
   "file_extension": ".py",
   "mimetype": "text/x-python",
   "name": "python",
   "nbconvert_exporter": "python",
   "pygments_lexer": "ipython3",
   "version": "3.10.9"
  },
  "orig_nbformat": 4,
  "vscode": {
   "interpreter": {
    "hash": "fb4569285eef3a3450cb62085a5b1e0da4bce0af555edc33dcf29baf3acc1368"
   }
  }
 },
 "nbformat": 4,
 "nbformat_minor": 2
}
