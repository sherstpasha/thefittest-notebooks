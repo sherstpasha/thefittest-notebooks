{
 "cells": [
  {
   "attachments": {},
   "cell_type": "markdown",
   "metadata": {},
   "source": [
    "## OneMax problem with 1000 bits"
   ]
  },
  {
   "cell_type": "code",
   "execution_count": 1,
   "metadata": {},
   "outputs": [
    {
     "name": "stdout",
     "output_type": "stream",
     "text": [
      "0 iteration with fitness = 542\n",
      "10 iteration with fitness = 617\n",
      "20 iteration with fitness = 698\n",
      "30 iteration with fitness = 757\n",
      "40 iteration with fitness = 803\n",
      "50 iteration with fitness = 842\n",
      "60 iteration with fitness = 889\n",
      "70 iteration with fitness = 929\n",
      "80 iteration with fitness = 947\n",
      "90 iteration with fitness = 965\n",
      "The fittest individ: [1 1 0 1 1 1 1 1 1 1 1 1 1 1 1 1 1 1 1 1 1 1 1 1 1 1 1 1 1 1 1 1 1 1 1 1 1\n",
      " 1 1 1 1 1 1 1 1 1 1 1 1 1 1 1 1 1 1 1 1 1 1 1 1 1 1 0 1 1 1 1 1 1 1 1 1 1\n",
      " 1 1 1 1 1 1 1 1 1 1 1 1 1 1 1 1 1 1 1 1 1 1 1 1 1 0 1 1 1 1 1 1 1 1 1 1 0\n",
      " 1 1 1 1 1 1 1 1 1 1 1 1 1 1 1 1 1 1 1 1 1 1 1 1 1 1 1 1 1 1 1 1 1 1 0 1 1\n",
      " 1 1 1 1 1 1 1 1 1 1 1 1 1 1 1 1 1 1 1 1 1 1 1 1 1 1 1 1 1 1 1 1 0 1 1 1 1\n",
      " 1 1 1 1 1 1 1 1 1 1 1 1 1 1 1 1 1 1 1 1 1 1 1 1 1 1 1 1 1 1 1 1 1 1 1 1 1\n",
      " 1 1 1 1 1 1 1 1 1 1 1 1 1 1 1 1 1 1 1 1 1 1 1 1 1 1 1 1 1 1 1 1 1 1 1 1 1\n",
      " 1 1 1 1 1 1 1 1 1 1 1 1 1 1 1 1 1 1 1 1 1 1 1 1 1 1 1 1 1 1 1 1 1 1 1 1 1\n",
      " 1 1 1 1 1 1 1 1 1 1 1 1 1 1 1 1 1 1 1 1 1 1 1 1 1 1 1 1 1 0 1 1 1 1 1 1 1\n",
      " 1 1 1 1 1 1 1 1 1 1 1 1 1 1 1 1 1 1 1 1 1 1 1 1 1 1 1 1 1 1 1 1 1 1 1 1 1\n",
      " 1 1 1 1 1 1 1 1 1 1 1 1 1 1 1 1 1 1 1 1 1 1 1 1 1 1 1 1 1 1 1 1 1 1 1 1 1\n",
      " 1 1 1 1 1 1 1 1 1 1 1 1 1 1 1 1 1 1 1 1 1 1 1 1 1 1 1 1 1 1 1 1 1 1 1 1 1\n",
      " 1 1 1 1 1 1 1 1 1 1 1 1 1 1 1 1 1 1 1 1 1 1 1 1 1 1 1 1 1 1 1 1 1 1 1 1 1\n",
      " 1 1 1 1 1 1 1 1 1 1 1 1 1 1 1 1 1 1 1 1 1 1 1 1 1 1 1 1 1 1 1 1 1 1 1 1 1\n",
      " 1 1 1 1 1 1 1 1 1 1 1 1 1 1 1 1 1 0 1 1 1 1 1 1 1 1 1 1 1 0 1 1 1 1 1 1 1\n",
      " 1 1 1 1 1 1 1 1 1 1 1 1 1 1 1 1 1 1 1 1 1 1 1 1 1 1 1 1 1 1 1 1 1 1 1 1 1\n",
      " 1 1 0 1 1 1 1 1 1 1 1 1 1 1 1 1 1 1 1 1 1 1 1 1 1 1 1 1 1 1 1 1 1 1 1 1 1\n",
      " 1 1 1 1 1 1 1 1 1 1 1 1 1 1 1 1 1 1 1 1 1 1 1 1 1 1 1 1 1 1 1 1 1 1 1 1 1\n",
      " 1 1 1 1 1 1 1 1 1 1 1 1 1 1 1 1 1 1 1 0 1 1 1 1 1 1 1 1 1 1 1 1 1 1 1 1 1\n",
      " 1 1 1 1 1 1 1 1 1 1 1 1 1 1 1 1 1 1 1 1 1 1 1 1 1 1 1 1 1 1 1 1 1 1 1 1 1\n",
      " 1 1 1 1 1 1 1 1 1 1 1 1 1 1 1 1 1 1 1 0 1 1 1 1 1 1 1 1 1 1 1 1 1 1 1 1 1\n",
      " 1 1 1 1 1 1 1 1 1 1 1 1 1 1 1 1 1 1 1 1 1 1 1 1 1 1 1 1 1 1 1 1 1 1 1 1 0\n",
      " 1 1 1 1 1 1 1 1 1 1 1 1 1 1 1 1 1 1 1 1 1 1 1 1 1 1 1 1 1 1 1 1 0 1 1 1 1\n",
      " 1 1 1 1 1 1 1 1 1 1 1 1 1 1 1 1 1 1 1 1 1 1 1 1 1 1 1 1 1 1 1 0 1 1 1 1 1\n",
      " 1 1 1 1 1 1 1 1 1 1 1 1 1 1 1 1 1 1 1 1 1 1 1 1 0 1 1 1 1 1 1 1 1 1 1 1 1\n",
      " 1 1 1 1 1 1 1 1 1 1 1 1 1 1 1 1 1 1 1 1 1 1 1 1 1 1 1 1 1 1 1 1 1 1 1 0 1\n",
      " 1 1 1 1 1 1 1 1 1 1 1 1 1 1 1 1 0 1 1 1 1 1 1 1 1 1 1 1 1 1 1 1 1 1 1 1 1\n",
      " 1]\n",
      "with fitness 982\n"
     ]
    }
   ],
   "source": [
    "import numpy as np\n",
    "from thefittest.optimizers import GeneticAlgorithm\n",
    "from thefittest.benchmarks import OneMax\n",
    "from thefittest.tools.transformations import donothing\n",
    "\n",
    "number_of_iterations = 100\n",
    "population_size = 200\n",
    "string_length = 1000\n",
    "\n",
    "model = GeneticAlgorithm(fitness_function=OneMax(),\n",
    "                         genotype_to_phenotype=donothing,\n",
    "                         iters=number_of_iterations,\n",
    "                         pop_size=population_size,\n",
    "                         str_len=string_length,\n",
    "                         show_progress_each=10,\n",
    "                         minimization=False)\n",
    "\n",
    "model.set_strategy(selection_oper='tournament_k',\n",
    "                   crossover_oper='uniform2',\n",
    "                   mutation_oper='custom_rate',\n",
    "                   elitism_param=True,\n",
    "                   parents_num_param=7,\n",
    "                   mutation_rate_param=0.001)\n",
    "\n",
    "model.fit()\n",
    "print('The fittest individ:', model.thefittest.phenotype)\n",
    "print('with fitness', model.thefittest.fitness)\n"
   ]
  },
  {
   "attachments": {},
   "cell_type": "markdown",
   "metadata": {},
   "source": [
    "## Rastrign problem with 10 variables"
   ]
  },
  {
   "cell_type": "code",
   "execution_count": 2,
   "metadata": {},
   "outputs": [
    {
     "name": "stdout",
     "output_type": "stream",
     "text": [
      "0 iteration with fitness = -94.86668174373044\n",
      "10 iteration with fitness = -19.044787952180886\n",
      "20 iteration with fitness = -4.463770433545564\n",
      "30 iteration with fitness = -0.7707644022404097\n",
      "40 iteration with fitness = -0.20583093306038158\n",
      "50 iteration with fitness = -0.12438587559568504\n",
      "60 iteration with fitness = -0.04449495887248567\n",
      "70 iteration with fitness = -0.017705343423122244\n",
      "80 iteration with fitness = -0.008603415368693135\n",
      "90 iteration with fitness = -0.006011266281552352\n",
      "100 iteration with fitness = -0.0014115621025467817\n",
      "110 iteration with fitness = -0.0008268842281644595\n",
      "120 iteration with fitness = -0.0005090542125376629\n",
      "130 iteration with fitness = -0.0001962436602322981\n",
      "140 iteration with fitness = -6.601439187647884e-05\n",
      "150 iteration with fitness = -2.7604974208728095e-05\n",
      "160 iteration with fitness = -1.2184576785756462e-05\n",
      "170 iteration with fitness = -6.516945456169765e-06\n",
      "180 iteration with fitness = -2.959945463842928e-06\n",
      "190 iteration with fitness = -1.6286557489308962e-06\n",
      "200 iteration with fitness = -5.3531320176603e-07\n",
      "210 iteration with fitness = -2.0849652671017793e-07\n",
      "220 iteration with fitness = -1.3906569940047575e-07\n",
      "230 iteration with fitness = -3.81219127376653e-08\n",
      "240 iteration with fitness = -2.703779067303458e-08\n",
      "250 iteration with fitness = -1.071901323257407e-08\n",
      "260 iteration with fitness = -3.490416844442734e-09\n",
      "270 iteration with fitness = -9.362128849943474e-10\n",
      "280 iteration with fitness = -4.211706539081206e-10\n",
      "290 iteration with fitness = -1.659152815136622e-10\n",
      "The fittest individ: [-1.54832378e-07  1.87428668e-07 -1.16415322e-09 -1.97906047e-08\n",
      "  6.40284270e-08 -4.08617780e-07 -3.57395038e-07  2.45636329e-07\n",
      "  2.91038305e-08 -2.45636329e-07]\n",
      "with fitness -9.519318666662002e-11\n"
     ]
    }
   ],
   "source": [
    "import numpy as np\n",
    "from thefittest.optimizers import GeneticAlgorithm\n",
    "from thefittest.tools.transformations import GrayCode\n",
    "from thefittest.benchmarks import Rastrigin\n",
    "\n",
    "\n",
    "n_dimension = 10\n",
    "left_border = -5.\n",
    "right_border = 5.\n",
    "n_bits_per_variable = 32\n",
    "\n",
    "number_of_iterations = 300\n",
    "population_size = 500\n",
    "\n",
    "left_border_array = np.full(\n",
    "    shape=n_dimension, fill_value=left_border, dtype=np.float64)\n",
    "right_border_array = np.full(\n",
    "    shape=n_dimension, fill_value=right_border, dtype=np.float64)\n",
    "parts = np.full(\n",
    "    shape=n_dimension, fill_value=n_bits_per_variable, dtype=np.int64)\n",
    "\n",
    "genotype_to_phenotype = GrayCode(fit_by='parts').fit(left=left_border_array,\n",
    "                                                     right=right_border_array,\n",
    "                                                     arg=parts)\n",
    "model = GeneticAlgorithm(fitness_function=Rastrigin(),\n",
    "                         genotype_to_phenotype=genotype_to_phenotype.transform,\n",
    "                         iters=number_of_iterations,\n",
    "                         pop_size=population_size,\n",
    "                         str_len=sum(parts),\n",
    "                         show_progress_each=10,\n",
    "                         minimization=True)\n",
    "\n",
    "model.set_strategy(selection_oper='rank',\n",
    "                   crossover_oper='two_point',\n",
    "                   mutation_oper='weak')\n",
    "\n",
    "model.fit()\n",
    "\n",
    "print('The fittest individ:', model.thefittest.phenotype)\n",
    "print('with fitness', model.thefittest.fitness)\n"
   ]
  },
  {
   "attachments": {},
   "cell_type": "markdown",
   "metadata": {},
   "source": [
    "## Custom problem"
   ]
  },
  {
   "cell_type": "code",
   "execution_count": 3,
   "metadata": {},
   "outputs": [
    {
     "name": "stdout",
     "output_type": "stream",
     "text": [
      "0 iteration with fitness = -109.80600266821102\n",
      "10 iteration with fitness = -2.5852799661968096\n",
      "20 iteration with fitness = -1.5230177641226599\n",
      "30 iteration with fitness = -0.003625862295838385\n",
      "40 iteration with fitness = -2.4685012703255596e-06\n",
      "50 iteration with fitness = -5.430662859985552e-07\n",
      "60 iteration with fitness = -7.209986745480809e-09\n",
      "70 iteration with fitness = -5.286169844410417e-10\n",
      "80 iteration with fitness = -9.764347669175347e-11\n",
      "90 iteration with fitness = -1.597150417562837e-12\n",
      "The fittest individ: [ 4.99999973 11.99999934]\n",
      "with fitness -5.120808833393442e-13\n"
     ]
    }
   ],
   "source": [
    "import numpy as np\n",
    "from thefittest.optimizers import GeneticAlgorithm\n",
    "from thefittest.tools.transformations import GrayCode\n",
    "\n",
    "\n",
    "def custom_problem(x):\n",
    "    return (5 - x[:, 0])**2 + (12 - x[:, 1])**2\n",
    "\n",
    "\n",
    "n_dimension = 2\n",
    "left_border = -100.\n",
    "right_border = 100.\n",
    "n_bits_per_variable = 32\n",
    "\n",
    "number_of_iterations = 100\n",
    "population_size = 100\n",
    "\n",
    "left_border_array = np.full(\n",
    "    shape=n_dimension, fill_value=left_border, dtype=np.float64)\n",
    "right_border_array = np.full(\n",
    "    shape=n_dimension, fill_value=right_border, dtype=np.float64)\n",
    "parts = np.full(\n",
    "    shape=n_dimension, fill_value=n_bits_per_variable, dtype=np.int64)\n",
    "\n",
    "\n",
    "genotype_to_phenotype = GrayCode(fit_by='parts').fit(left=left_border_array,\n",
    "                                                     right=right_border_array,\n",
    "                                                     arg=parts)\n",
    "model = GeneticAlgorithm(fitness_function=custom_problem,\n",
    "                         genotype_to_phenotype=genotype_to_phenotype.transform,\n",
    "                         iters=number_of_iterations,\n",
    "                         pop_size=population_size,\n",
    "                         str_len=sum(parts),\n",
    "                         show_progress_each=10,\n",
    "                         minimization=True)\n",
    "\n",
    "model.set_strategy(selection_oper='rank',\n",
    "                   crossover_oper='two_point',\n",
    "                   mutation_oper='weak')\n",
    "\n",
    "model.fit()\n",
    "\n",
    "print('The fittest individ:', model.thefittest.phenotype)\n",
    "print('with fitness', model.thefittest.fitness)\n"
   ]
  }
 ],
 "metadata": {
  "kernelspec": {
   "display_name": "Python 3",
   "language": "python",
   "name": "python3"
  },
  "language_info": {
   "codemirror_mode": {
    "name": "ipython",
    "version": 3
   },
   "file_extension": ".py",
   "mimetype": "text/x-python",
   "name": "python",
   "nbconvert_exporter": "python",
   "pygments_lexer": "ipython3",
   "version": "3.10.9"
  },
  "orig_nbformat": 4,
  "vscode": {
   "interpreter": {
    "hash": "fb4569285eef3a3450cb62085a5b1e0da4bce0af555edc33dcf29baf3acc1368"
   }
  }
 },
 "nbformat": 4,
 "nbformat_minor": 2
}
